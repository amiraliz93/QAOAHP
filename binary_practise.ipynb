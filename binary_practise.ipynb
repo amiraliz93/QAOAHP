{
 "cells": [
  {
   "cell_type": "code",
   "execution_count": 2,
   "metadata": {},
   "outputs": [],
   "source": [
    "def recursive(n, list):\n",
    "    \"\"\"recursive algorithm to convert decimal to binary\n",
    "\n",
    "    Args:\n",
    "        n (_type_): dcimal\n",
    "        list (_type_): list of binary\n",
    "\n",
    "    Returns:\n",
    "        _type_: list\n",
    "    \"\"\"\n",
    "    if n <= 0:\n",
    "        return list\n",
    "    else:\n",
    "       reminder =  n % 2\n",
    "       actual = n//2\n",
    "       list.append(reminder)\n",
    "       recursive (actual, list)\n",
    "    return list\n",
    "\n",
    "def to_binary(n): # better version to conver decimal to binary\n",
    "    if n == 0:\n",
    "        return \"0\"\n",
    "    elif n ==1:\n",
    "        return '1'\n",
    "    else: \n",
    "       return  to_binary(n//2) + str(n % 2)\n",
    "\n",
    "#list = []\n",
    "#list = recursive(348, list)\n",
    "#list.reverse()\n",
    "#print(list)"
   ]
  },
  {
   "cell_type": "code",
   "execution_count": null,
   "metadata": {},
   "outputs": [
    {
     "name": "stdout",
     "output_type": "stream",
     "text": [
      "7\n",
      "0b111\n"
     ]
    }
   ],
   "source": [
    "\n",
    "Read_permission = 4\n",
    "write_permission = 2\n",
    "Execute_permission = 1\n",
    "\"\"\"  \n",
    "    0b prefix is python formate (0b base 2, 0x base 16 0o base 8 and ...)\n",
    "    4 in binary is 0b100\n",
    "    2 in binary: 0b10\n",
    "    6 in binary: 0b110    \n",
    "    \"\"\"\n",
    "userPermission = Read_permission | write_permission # or bitwase 0b10 | 0b100 = 0b110 (6)\n",
    "\n",
    "userPermission |= Execute_permission # and bitwas\n",
    "\n",
    "userPermission ^= write_permission # write permission with XOR\n",
    "print(userPermission)\n",
    "print(bin(userPermission))\n",
    "\n",
    "# XOr operator (^) for example  (0b101) ^ (0b110) = 0b011 (3) \n"
   ]
  }
 ],
 "metadata": {
  "kernelspec": {
   "display_name": "QAOA_matrix",
   "language": "python",
   "name": "python3"
  },
  "language_info": {
   "codemirror_mode": {
    "name": "ipython",
    "version": 3
   },
   "file_extension": ".py",
   "mimetype": "text/x-python",
   "name": "python",
   "nbconvert_exporter": "python",
   "pygments_lexer": "ipython3",
   "version": "3.11.5"
  }
 },
 "nbformat": 4,
 "nbformat_minor": 2
}
