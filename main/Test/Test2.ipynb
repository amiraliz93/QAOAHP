{
 "cells": [
  {
   "cell_type": "code",
   "execution_count": 1,
   "metadata": {},
   "outputs": [
    {
     "name": "stdout",
     "output_type": "stream",
     "text": [
      "c:\\Users\\N1259534\\AppData\\Local\\anaconda3\\envs\\qaoa_sim\\python.exe\n",
      "['c:\\\\Users\\\\N1259534\\\\AppData\\\\Local\\\\anaconda3\\\\envs\\\\qaoa_sim\\\\python313.zip', 'c:\\\\Users\\\\N1259534\\\\AppData\\\\Local\\\\anaconda3\\\\envs\\\\qaoa_sim\\\\DLLs', 'c:\\\\Users\\\\N1259534\\\\AppData\\\\Local\\\\anaconda3\\\\envs\\\\qaoa_sim\\\\Lib', 'c:\\\\Users\\\\N1259534\\\\AppData\\\\Local\\\\anaconda3\\\\envs\\\\qaoa_sim', '', 'C:\\\\Users\\\\N1259534\\\\AppData\\\\Roaming\\\\Python\\\\Python313\\\\site-packages', 'c:\\\\Users\\\\N1259534\\\\AppData\\\\Local\\\\anaconda3\\\\envs\\\\qaoa_sim\\\\Lib\\\\site-packages', 'c:\\\\Users\\\\N1259534\\\\AppData\\\\Local\\\\anaconda3\\\\envs\\\\qaoa_sim\\\\Lib\\\\site-packages\\\\win32', 'c:\\\\Users\\\\N1259534\\\\AppData\\\\Local\\\\anaconda3\\\\envs\\\\qaoa_sim\\\\Lib\\\\site-packages\\\\win32\\\\lib', 'c:\\\\Users\\\\N1259534\\\\AppData\\\\Local\\\\anaconda3\\\\envs\\\\qaoa_sim\\\\Lib\\\\site-packages\\\\Pythonwin']\n"
     ]
    }
   ],
   "source": [
    "import sys\n",
    "print(sys.executable)\n",
    "print(sys.path)"
   ]
  },
  {
   "cell_type": "code",
   "execution_count": 2,
   "metadata": {},
   "outputs": [],
   "source": [
    "\n",
    "import numpy as np\n",
    "from itertools import combinations\n",
    "import scipy\n",
    "import networkx as nx\n",
    "import matplotlib.pyplot as plt\n",
    "\n",
    "from QAOA_objective import get_qaoa_objective\n",
    "from utils import brute_force\n"
   ]
  },
  {
   "cell_type": "code",
   "execution_count": 49,
   "metadata": {},
   "outputs": [
    {
     "name": "stdout",
     "output_type": "stream",
     "text": [
      "False\n"
     ]
    }
   ],
   "source": [
    "import numba.cuda\n",
    "print(numba.cuda.is_available())"
   ]
  },
  {
   "cell_type": "code",
   "execution_count": 2,
   "metadata": {},
   "outputs": [
    {
     "data": {
      "text/plain": [
       "'\\nimport numpy as np\\nimport itertools\\n\\n \\n# Given data\\nx1 = [-5.0000, -4.0000, -3.0000, -2.0000, -1.0000, 0.0000, 1.0000, 2.0000, 3.0000, 4.0000,\\n     5.0000, 6.0000, 7.0000, 8.0000, 9.0000, 10.0000, 11.0000, 12.0000, 13.0000, 14.0000]\\nlmf1 = [0.0000, 0.0316, 0.0632, 0.0947, 0.1263, 0.1579, 0.1895, 0.2211, 0.2316, 0.2105,\\n       0.1895, 0.1684, 0.1474, 0.1263, 0.1053, 0.0842, 0.0632, 0.0421, 0.0211, 0.0000]\\numf1 = [0.3753, 0.4868, 0.6065, 0.7261, 0.8353, 0.9231, 0.9802, 1.0000, 0.9802, 0.9231,\\n        0.8353, 0.7261, 0.6065, 0.8494, 1.0000, 0.8494, 0.5205, 0.2301, 0.0734, 0.0169]\\n\\nx = x1[:5]\\nlmf = lmf1[:5]\\numf = umf1[:5]\\n\\n\\nn = len(x)\\nprec = 10000\\nm = 4  # z precision bits\\n\\n# Step 1: Calculate A, B, C, alpha, beta\\nbeta = sum(lmf)\\nalpha = sum(x[i] * lmf[i] for i in range(n))\\nB_vec = [umf[i] - lmf[i] for i in range(n)]\\nA_vec = [x[i] * B_vec[i] for i in range(n)]\\nC_vec = [(A_vec[i] - (alpha / beta) * B_vec[i]) / prec for i in range(n)]\\n\\n# QUBO variable index mapping\\ny_indices = [f\"y_{i}\" for i in range(n)]\\nz_indices = [f\"z_{j}\" for j in range(m)]\\nvariables = y_indices + z_indices\\nvar_index = {var: idx for idx, var in enumerate(variables)}\\nQ = np.zeros((len(variables), len(variables)))\\n\\n# Step 2: Objective term (z * sum(C[i] * y[i]))\\nfor i in range(n):\\n    for j in range(m):\\n        coeff = 2**(-j-1) * C_vec[i]\\n        idx_y = var_index[f\"y_{i}\"]\\n        idx_z = var_index[f\"z_{j}\"]\\n        Q[idx_y, idx_z] += coeff\\n        Q[idx_z, idx_y] += coeff  # symmetric\\n\\n# Step 3: Penalty term for constraint: z * (sum B[i]*y[i] + beta) = 1\\nlambda_penalty = 500  # tune as needed\\n\\n# Define A = sum 2^{-j} z_j and B = sum B[i] y_i + beta\\n# Expand (A*B - 1)^2 = A^2 * B^2 - 2*A*B + 1\\n# Compute each component separately and accumulate in Q\\n\\n# Precompute 2^-j values\\nz_weights = [2**(-j-1) for j in range(m)]\\n\\n# A^2 terms: z_j * z_k\\nfor j1 in range(m):\\n    for j2 in range(m):\\n        coeff_z = z_weights[j1] * z_weights[j2]\\n        for i1 in range(n):\\n            for i2 in range(n):\\n                coeff = lambda_penalty * coeff_z * B_vec[i1] * B_vec[i2]\\n                idx1 = var_index[f\"z_{j1}\"]\\n                idx2 = var_index[f\"z_{j2}\"]\\n                idy1 = var_index[f\"y_{i1}\"]\\n                idy2 = var_index[f\"y_{i2}\"]\\n                Q[idy1, idy2] += coeff\\n                Q[idx1, idx2] += coeff\\n                Q[idy1, idx2] += coeff\\n                Q[idx1, idy2] += coeff\\n\\n# -2AB terms\\nfor j in range(m):\\n    for i in range(n):\\n        coeff = -2 * lambda_penalty * z_weights[j] * B_vec[i] * (sum(B_vec) + beta)\\n        Q[var_index[f\"z_{j}\"], var_index[f\"y_{i}\"]] += coeff\\n        Q[var_index[f\"y_{i}\"], var_index[f\"z_{j}\"]] += coeff\\n\\n# Constant +1 term is ignored in QUBO\\n\\nQ = (Q + Q.T) / 2  # ensure symmetry\\n\\nprint(Q.shape, Q)\\n\\n\\n   '"
      ]
     },
     "execution_count": 2,
     "metadata": {},
     "output_type": "execute_result"
    }
   ],
   "source": [
    "#second example \n",
    "\n",
    "\"\"\"\n",
    "import numpy as np\n",
    "import itertools\n",
    "\n",
    " \n",
    "# Given data\n",
    "x1 = [-5.0000, -4.0000, -3.0000, -2.0000, -1.0000, 0.0000, 1.0000, 2.0000, 3.0000, 4.0000,\n",
    "     5.0000, 6.0000, 7.0000, 8.0000, 9.0000, 10.0000, 11.0000, 12.0000, 13.0000, 14.0000]\n",
    "lmf1 = [0.0000, 0.0316, 0.0632, 0.0947, 0.1263, 0.1579, 0.1895, 0.2211, 0.2316, 0.2105,\n",
    "       0.1895, 0.1684, 0.1474, 0.1263, 0.1053, 0.0842, 0.0632, 0.0421, 0.0211, 0.0000]\n",
    "umf1 = [0.3753, 0.4868, 0.6065, 0.7261, 0.8353, 0.9231, 0.9802, 1.0000, 0.9802, 0.9231,\n",
    "        0.8353, 0.7261, 0.6065, 0.8494, 1.0000, 0.8494, 0.5205, 0.2301, 0.0734, 0.0169]\n",
    "\n",
    "x = x1[:5]\n",
    "lmf = lmf1[:5]\n",
    "umf = umf1[:5]\n",
    "\n",
    "\n",
    "n = len(x)\n",
    "prec = 10000\n",
    "m = 4  # z precision bits\n",
    "\n",
    "# Step 1: Calculate A, B, C, alpha, beta\n",
    "beta = sum(lmf)\n",
    "alpha = sum(x[i] * lmf[i] for i in range(n))\n",
    "B_vec = [umf[i] - lmf[i] for i in range(n)]\n",
    "A_vec = [x[i] * B_vec[i] for i in range(n)]\n",
    "C_vec = [(A_vec[i] - (alpha / beta) * B_vec[i]) / prec for i in range(n)]\n",
    "\n",
    "# QUBO variable index mapping\n",
    "y_indices = [f\"y_{i}\" for i in range(n)]\n",
    "z_indices = [f\"z_{j}\" for j in range(m)]\n",
    "variables = y_indices + z_indices\n",
    "var_index = {var: idx for idx, var in enumerate(variables)}\n",
    "Q = np.zeros((len(variables), len(variables)))\n",
    "\n",
    "# Step 2: Objective term (z * sum(C[i] * y[i]))\n",
    "for i in range(n):\n",
    "    for j in range(m):\n",
    "        coeff = 2**(-j-1) * C_vec[i]\n",
    "        idx_y = var_index[f\"y_{i}\"]\n",
    "        idx_z = var_index[f\"z_{j}\"]\n",
    "        Q[idx_y, idx_z] += coeff\n",
    "        Q[idx_z, idx_y] += coeff  # symmetric\n",
    "\n",
    "# Step 3: Penalty term for constraint: z * (sum B[i]*y[i] + beta) = 1\n",
    "lambda_penalty = 500  # tune as needed\n",
    "\n",
    "# Define A = sum 2^{-j} z_j and B = sum B[i] y_i + beta\n",
    "# Expand (A*B - 1)^2 = A^2 * B^2 - 2*A*B + 1\n",
    "# Compute each component separately and accumulate in Q\n",
    "\n",
    "# Precompute 2^-j values\n",
    "z_weights = [2**(-j-1) for j in range(m)]\n",
    "\n",
    "# A^2 terms: z_j * z_k\n",
    "for j1 in range(m):\n",
    "    for j2 in range(m):\n",
    "        coeff_z = z_weights[j1] * z_weights[j2]\n",
    "        for i1 in range(n):\n",
    "            for i2 in range(n):\n",
    "                coeff = lambda_penalty * coeff_z * B_vec[i1] * B_vec[i2]\n",
    "                idx1 = var_index[f\"z_{j1}\"]\n",
    "                idx2 = var_index[f\"z_{j2}\"]\n",
    "                idy1 = var_index[f\"y_{i1}\"]\n",
    "                idy2 = var_index[f\"y_{i2}\"]\n",
    "                Q[idy1, idy2] += coeff\n",
    "                Q[idx1, idx2] += coeff\n",
    "                Q[idy1, idx2] += coeff\n",
    "                Q[idx1, idy2] += coeff\n",
    "\n",
    "# -2AB terms\n",
    "for j in range(m):\n",
    "    for i in range(n):\n",
    "        coeff = -2 * lambda_penalty * z_weights[j] * B_vec[i] * (sum(B_vec) + beta)\n",
    "        Q[var_index[f\"z_{j}\"], var_index[f\"y_{i}\"]] += coeff\n",
    "        Q[var_index[f\"y_{i}\"], var_index[f\"z_{j}\"]] += coeff\n",
    "\n",
    "# Constant +1 term is ignored in QUBO\n",
    "\n",
    "Q = (Q + Q.T) / 2  # ensure symmetry\n",
    "\n",
    "print(Q.shape, Q)\n",
    "\n",
    "\n",
    "   \"\"\""
   ]
  },
  {
   "cell_type": "code",
   "execution_count": 3,
   "metadata": {},
   "outputs": [
    {
     "name": "stdout",
     "output_type": "stream",
     "text": [
      "[(1.6243453636632417, (0, 1)), (-0.6117564136500754, (0, 2)), (-0.5281717522634557, (0, 3)), (-1.0729686221561705, (0, 4)), (0.8654076293246785, (1, 2)), (-2.3015386968802827, (1, 3)), (1.74481176421648, (1, 4)), (-0.7612069008951028, (2, 3)), (0.31903909605709857, (2, 4)), (-0.2493703754774101, (3, 4))]\n"
     ]
    },
    {
     "data": {
      "image/png": "[encoded data removed]",
      "text/plain": [
       "<Figure size 300x150 with 1 Axes>"
      ]
     },
     "metadata": {},
     "output_type": "display_data"
    }
   ],
   "source": [
    "#Step 1: Generate terms\n",
    "\n",
    "N = 5\n",
    "np.random.seed(1)\n",
    "terms = [(np.random.normal(), spin_pair) for spin_pair in combinations(range(N), r=2)]\n",
    "print(terms)\n",
    "\n",
    "# generate graph representation\n",
    "G = nx.Graph()\n",
    "for weight, (node1, node2) in terms:\n",
    "    G.add_edge(node1, node2, wight=round(weight, 2))\n",
    "    \n",
    "plt.figure(figsize=(3, 1.5))\n",
    "pos = nx.spring_layout(G)  # Layout for visualization\n",
    "nx.draw(G, pos, with_labels=True, node_color='lightblue', edge_color='gray', node_size=500, font_size=12)\n",
    "\n",
    "\n",
    "plt.show()"
   ]
  },
  {
   "cell_type": "code",
   "execution_count": 4,
   "metadata": {},
   "outputs": [],
   "source": [
    "# Step 2: get QAOA objective\n",
    "# Get objective\n",
    "p = 3\n",
    "# for qiskit version:\n",
    "# Generate the symbolic parameterized circuit\n",
    "from Base.qaoa_circuit1 import get_parameterized_qaoa_circuit_from_terms\n",
    "param_qc = get_parameterized_qaoa_circuit_from_terms(N, terms, p)\n",
    "f = get_qaoa_objective(N, terms=terms,parameterized_circuit = param_qc,  parameterization='theta', simulator='qiskit')\n",
    "\n",
    "\n",
    "#f = get_qaoa_objective(N, terms=terms, parameterization='theta', simulator='auto') #simulator='gpu', python"
   ]
  },
  {
   "cell_type": "code",
   "execution_count": 5,
   "metadata": {},
   "outputs": [
    {
     "name": "stdout",
     "output_type": "stream",
     "text": [
      "<function get_qaoa_objective.<locals>.fq at 0x000001E3F0BEEDE0>\n"
     ]
    }
   ],
   "source": [
    "print(f)"
   ]
  },
  {
   "cell_type": "code",
   "execution_count": 6,
   "metadata": {},
   "outputs": [
    {
     "name": "stdout",
     "output_type": "stream",
     "text": [
      "1.474805194599217\n"
     ]
    }
   ],
   "source": [
    "# example of cost in random thetha \n",
    "theta = np.random.rand(2*p)  # or optimized params\n",
    "cost = f(theta)\n",
    "print(cost)"
   ]
  },
  {
   "cell_type": "markdown",
   "metadata": {},
   "source": [
    "### Why is `cost = f(theta)` outputting `None`?\n",
    "\n",
    "The output is `None` because the function `f` does not return a value in some cases. This usually happens if the `objective` parameter is not `'expectation'` or `'overlap'`, or if the code path in `f` does not end with a `return` statement.\n",
    "\n",
    "#### How to fix:\n",
    "- Check the implementation of `get_qaoa_objective` in `QAOA_objective.py`.\n",
    "- Make sure that the inner function `f` always ends with a `return` statement for all code paths.\n",
    "\n",
    "**Example fix:**\n",
    "```python\n",
    "def f(*args):\n",
    "    gamma, beta = ... # parameter conversion\n",
    "    result = sim.simulate_qaoa(gamma, beta, ...)\n",
    "    if objective == \"expectation\":\n",
    "        return sim.get_expectation(...)\n",
    "    elif objective == \"overlap\":\n",
    "        return 1 - sim.get_overlap(...)\n",
    "    else:\n",
    "        raise ValueError(\"Unknown objective\")\n",
    "```\n",
    "\n",
    "If you miss the `return` statement, Python will return `None` by default. Double-check your function logic."
   ]
  },
  {
   "cell_type": "code",
   "execution_count": 7,
   "metadata": {},
   "outputs": [
    {
     "name": "stdout",
     "output_type": "stream",
     "text": [
      "Elapsed time: 1.2232 seconds\n"
     ]
    }
   ],
   "source": [
    "# Step 3: Optimize QAOA parameters\n",
    "import time\n",
    "import scipy.optimize\n",
    "start = time.time()\n",
    "# Store cost function values during optimization\n",
    "\n",
    "cost_values = []\n",
    "def callback(xk):\n",
    "    cost_values.append(f(xk))\n",
    "\n",
    "p = 3\n",
    "initial_gamma = -1*np.linspace(0, 1, p)\n",
    "initial_beta = np.linspace(1, 0, p)\n",
    "\n",
    "res = scipy.optimize.minimize(f, np.hstack([initial_gamma, initial_beta]), method='COBYLA', options={'rhobeg': 0.01}, callback=callable)\n",
    "finish = time.time()\n",
    "elapsed_time = finish - start\n",
    "print(f\"Elapsed time: {elapsed_time:.4f} seconds\")"
   ]
  },
  {
   "cell_type": "code",
   "execution_count": 8,
   "metadata": {},
   "outputs": [
    {
     "name": "stdout",
     "output_type": "stream",
     "text": [
      "Expected QAOA solution quality: -5.39166\n"
     ]
    }
   ],
   "source": [
    "print(f\"Expected QAOA solution quality: {res.fun:.5f}\")"
   ]
  },
  {
   "cell_type": "code",
   "execution_count": 9,
   "metadata": {},
   "outputs": [
    {
     "data": {
      "text/plain": [
       "<matplotlib.legend.Legend at 0x1e3f0dc17f0>"
      ]
     },
     "execution_count": 9,
     "metadata": {},
     "output_type": "execute_result"
    },
    {
     "data": {
      "image/png": "[encoded data removed]",
      "text/plain": [
       "<Figure size 640x480 with 1 Axes>"
      ]
     },
     "metadata": {},
     "output_type": "display_data"
    }
   ],
   "source": [
    "import matplotlib.pyplot as plt\n",
    "plt.plot(-res.x[:p], label=r\"$\\gamma$\")\n",
    "plt.plot(res.x[p:], label=r\"$\\beta$\")\n",
    "plt.title('Optimized QAOA parameters')\n",
    "plt.legend()"
   ]
  },
  {
   "cell_type": "code",
   "execution_count": 10,
   "metadata": {},
   "outputs": [],
   "source": [
    "def f_from_terms_ground_truth(s):\n",
    "    \"\"\"ground truth for debugging\n",
    "    \"\"\"\n",
    "    out = 0\n",
    "    for coeff, (i, j) in terms:\n",
    "        out += coeff * s[i] * s[j]\n",
    "    return out\n"
   ]
  },
  {
   "cell_type": "code",
   "execution_count": 11,
   "metadata": {},
   "outputs": [
    {
     "name": "stdout",
     "output_type": "stream",
     "text": [
      "True minimum: -6.36304\n",
      "True bitstring:  [0 1 0 1 0]\n",
      "Result from QAOA solver:  -5.391664079941229\n"
     ]
    }
   ],
   "source": [
    "print(f\"True minimum: {brute_force(f_from_terms_ground_truth, N, minimize=True)[0]:.5f}\")\n",
    "\n",
    "min_cost, min_bitstring = brute_force(f_from_terms_ground_truth, N, minimize=True)\n",
    "qaoa_result = f(res.x)\n",
    "print('True bitstring: ',min_bitstring)\n",
    "print(\"Result from QAOA solver: \", qaoa_result)"
   ]
  },
  {
   "cell_type": "code",
   "execution_count": 46,
   "metadata": {},
   "outputs": [],
   "source": [
    "#overlap = sim.get_overlap(qaoa_result)"
   ]
  }
 ],
 "metadata": {
  "kernelspec": {
   "display_name": "qaoa_sim",
   "language": "python",
   "name": "python3"
  },
  "language_info": {
   "codemirror_mode": {
    "name": "ipython",
    "version": 3
   },
   "file_extension": ".py",
   "mimetype": "text/x-python",
   "name": "python",
   "nbconvert_exporter": "python",
   "pygments_lexer": "ipython3",
   "version": "3.13.2"
  }
 },
 "nbformat": 4,
 "nbformat_minor": 2
}
