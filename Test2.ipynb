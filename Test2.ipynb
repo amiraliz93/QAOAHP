{
 "cells": [
  {
   "cell_type": "code",
   "execution_count": 1,
   "metadata": {},
   "outputs": [
    {
     "name": "stdout",
     "output_type": "stream",
     "text": [
      "['C:\\\\Users\\\\N1259534\\\\AppData\\\\Local\\\\anaconda3\\\\python311.zip', 'C:\\\\Users\\\\N1259534\\\\AppData\\\\Local\\\\anaconda3\\\\DLLs', 'C:\\\\Users\\\\N1259534\\\\AppData\\\\Local\\\\anaconda3\\\\Lib', 'C:\\\\Users\\\\N1259534\\\\AppData\\\\Local\\\\anaconda3', 'c:\\\\Users\\\\N1259534\\\\OneDrive - Nottingham Trent University\\\\Desktop\\\\Projects\\\\QAOA_simulation_LV\\\\QAOA_mtrix_simulation\\\\simulation_qaoa_LV', '', 'c:\\\\Users\\\\N1259534\\\\OneDrive - Nottingham Trent University\\\\Desktop\\\\Projects\\\\QAOA_simulation_LV\\\\QAOA_mtrix_simulation\\\\simulation_qaoa_LV\\\\Lib\\\\site-packages', 'c:\\\\Users\\\\N1259534\\\\OneDrive - Nottingham Trent University\\\\Desktop\\\\Projects\\\\QAOA_simulation_LV\\\\QAOA_mtrix_simulation\\\\simulation_qaoa_LV\\\\Lib\\\\site-packages\\\\win32', 'c:\\\\Users\\\\N1259534\\\\OneDrive - Nottingham Trent University\\\\Desktop\\\\Projects\\\\QAOA_simulation_LV\\\\QAOA_mtrix_simulation\\\\simulation_qaoa_LV\\\\Lib\\\\site-packages\\\\win32\\\\lib', 'c:\\\\Users\\\\N1259534\\\\OneDrive - Nottingham Trent University\\\\Desktop\\\\Projects\\\\QAOA_simulation_LV\\\\QAOA_mtrix_simulation\\\\simulation_qaoa_LV\\\\Lib\\\\site-packages\\\\Pythonwin']\n"
     ]
    }
   ],
   "source": [
    "import sys\n",
    "print(sys.path)"
   ]
  },
  {
   "cell_type": "code",
   "execution_count": null,
   "metadata": {},
   "outputs": [],
   "source": [
    "sys.path.append(r\"C:\\Users\\N1259534\\Desktop\\Projects\\QAOA_simulation_LV\\QAOA_mtrix_simulation\")"
   ]
  },
  {
   "cell_type": "code",
   "execution_count": 2,
   "metadata": {},
   "outputs": [
    {
     "ename": "ImportError",
     "evalue": "cannot import name 'apply_qaoa_furx' from 'Base.Simulators.GPU.core_rotation' (c:\\Users\\N1259534\\OneDrive - Nottingham Trent University\\Desktop\\Projects\\QAOA_simulation_LV\\QAOA_mtrix_simulation\\Base\\Simulators\\GPU\\core_rotation.py)",
     "output_type": "error",
     "traceback": [
      "\u001b[1;31m---------------------------------------------------------------------------\u001b[0m",
      "\u001b[1;31mImportError\u001b[0m                               Traceback (most recent call last)",
      "Cell \u001b[1;32mIn[2], line 7\u001b[0m\n\u001b[0;32m      4\u001b[0m \u001b[38;5;28;01mimport\u001b[39;00m\u001b[38;5;250m \u001b[39m\u001b[38;5;21;01mnetworkx\u001b[39;00m\u001b[38;5;250m \u001b[39m\u001b[38;5;28;01mas\u001b[39;00m\u001b[38;5;250m \u001b[39m\u001b[38;5;21;01mnx\u001b[39;00m\n\u001b[0;32m      5\u001b[0m \u001b[38;5;28;01mimport\u001b[39;00m\u001b[38;5;250m \u001b[39m\u001b[38;5;21;01mmatplotlib\u001b[39;00m\u001b[38;5;21;01m.\u001b[39;00m\u001b[38;5;21;01mpyplot\u001b[39;00m\u001b[38;5;250m \u001b[39m\u001b[38;5;28;01mas\u001b[39;00m\u001b[38;5;250m \u001b[39m\u001b[38;5;21;01mplt\u001b[39;00m\n\u001b[1;32m----> 7\u001b[0m \u001b[38;5;28;01mfrom\u001b[39;00m\u001b[38;5;250m \u001b[39m\u001b[38;5;21;01mQAOA_objective\u001b[39;00m\u001b[38;5;250m \u001b[39m\u001b[38;5;28;01mimport\u001b[39;00m get_qaoa_objective\n",
      "File \u001b[1;32mc:\\Users\\N1259534\\OneDrive - Nottingham Trent University\\Desktop\\Projects\\QAOA_simulation_LV\\QAOA_mtrix_simulation\\QAOA_objective.py:10\u001b[0m\n\u001b[0;32m      7\u001b[0m \u001b[38;5;28;01mfrom\u001b[39;00m\u001b[38;5;250m \u001b[39m\u001b[38;5;21;01mfunctools\u001b[39;00m\u001b[38;5;250m \u001b[39m\u001b[38;5;28;01mimport\u001b[39;00m reduce\n\u001b[0;32m      8\u001b[0m \u001b[38;5;28;01mimport\u001b[39;00m\u001b[38;5;250m \u001b[39m\u001b[38;5;21;01mnumba\u001b[39;00m\u001b[38;5;21;01m.\u001b[39;00m\u001b[38;5;21;01mcuda\u001b[39;00m\n\u001b[1;32m---> 10\u001b[0m \u001b[38;5;28;01mfrom\u001b[39;00m\u001b[38;5;250m \u001b[39m\u001b[38;5;21;01mBase\u001b[39;00m\u001b[38;5;250m \u001b[39m\u001b[38;5;28;01mimport\u001b[39;00m choose_simulator, qaoa_simulator_base\n\u001b[0;32m     12\u001b[0m \u001b[38;5;28;01mfrom\u001b[39;00m\u001b[38;5;250m \u001b[39m\u001b[38;5;21;01mparameter_utils\u001b[39;00m\u001b[38;5;250m \u001b[39m\u001b[38;5;28;01mimport\u001b[39;00m from_fourier_basis\n\u001b[0;32m     13\u001b[0m \u001b[38;5;28;01mimport\u001b[39;00m\u001b[38;5;250m \u001b[39m\u001b[38;5;21;01mparameter_utils\u001b[39;00m\n",
      "File \u001b[1;32mc:\\Users\\N1259534\\OneDrive - Nottingham Trent University\\Desktop\\Projects\\QAOA_simulation_LV\\QAOA_mtrix_simulation\\Base\\__init__.py:5\u001b[0m\n\u001b[0;32m      3\u001b[0m \u001b[38;5;28;01mfrom\u001b[39;00m\u001b[38;5;250m \u001b[39m\u001b[38;5;21;01m.\u001b[39;00m\u001b[38;5;21;01mqaoa_simulator_base\u001b[39;00m\u001b[38;5;250m \u001b[39m\u001b[38;5;28;01mimport\u001b[39;00m QAOAFastSimulatorBase\n\u001b[0;32m      4\u001b[0m \u001b[38;5;28;01mfrom\u001b[39;00m\u001b[38;5;250m \u001b[39m\u001b[38;5;21;01m.\u001b[39;00m\u001b[38;5;21;01mSimulators\u001b[39;00m\u001b[38;5;21;01m.\u001b[39;00m\u001b[38;5;21;01mpython\u001b[39;00m\u001b[38;5;21;01m.\u001b[39;00m\u001b[38;5;21;01mQAOA_simulator\u001b[39;00m\u001b[38;5;250m \u001b[39m\u001b[38;5;28;01mimport\u001b[39;00m QAOAFURXSimulator, ParamType, CostsType, TermsType\n\u001b[1;32m----> 5\u001b[0m \u001b[38;5;28;01mfrom\u001b[39;00m\u001b[38;5;250m \u001b[39m\u001b[38;5;21;01m.\u001b[39;00m\u001b[38;5;21;01mSimulators\u001b[39;00m\u001b[38;5;21;01m.\u001b[39;00m\u001b[38;5;21;01mGPU\u001b[39;00m\u001b[38;5;21;01m.\u001b[39;00m\u001b[38;5;21;01mqaoa_simulatorbase\u001b[39;00m\u001b[38;5;250m \u001b[39m\u001b[38;5;28;01mimport\u001b[39;00m QAOAFURXSimulatorGPU\n\u001b[0;32m      6\u001b[0m Simulators \u001b[38;5;241m=\u001b[39m {\n\u001b[0;32m      7\u001b[0m     \u001b[38;5;124m\"\u001b[39m\u001b[38;5;124mx\u001b[39m\u001b[38;5;124m\"\u001b[39m: {\n\u001b[0;32m      8\u001b[0m        \u001b[38;5;66;03m# \"c\": QAOAFURXSimulatorC,\u001b[39;00m\n\u001b[1;32m   (...)\u001b[0m\n\u001b[0;32m     12\u001b[0m     }\n\u001b[0;32m     13\u001b[0m }\n\u001b[0;32m     15\u001b[0m \u001b[38;5;28;01mdef\u001b[39;00m\u001b[38;5;250m \u001b[39m\u001b[38;5;21mget_available_simulator_names\u001b[39m(\u001b[38;5;28mtype\u001b[39m: \u001b[38;5;28mstr\u001b[39m \u001b[38;5;241m=\u001b[39m \u001b[38;5;124m\"\u001b[39m\u001b[38;5;124mx\u001b[39m\u001b[38;5;124m\"\u001b[39m) \u001b[38;5;241m-\u001b[39m\u001b[38;5;241m>\u001b[39m \u001b[38;5;28mlist\u001b[39m:\n",
      "File \u001b[1;32mc:\\Users\\N1259534\\OneDrive - Nottingham Trent University\\Desktop\\Projects\\QAOA_simulation_LV\\QAOA_mtrix_simulation\\Base\\Simulators\\GPU\\qaoa_simulatorbase.py:10\u001b[0m\n\u001b[0;32m      6\u001b[0m \u001b[38;5;28;01mimport\u001b[39;00m\u001b[38;5;250m \u001b[39m\u001b[38;5;21;01mwarnings\u001b[39;00m\n\u001b[0;32m      8\u001b[0m \u001b[38;5;28;01mfrom\u001b[39;00m\u001b[38;5;250m \u001b[39m\u001b[38;5;21;01m.\u001b[39;00m\u001b[38;5;21;01m.\u001b[39;00m\u001b[38;5;21;01m.\u001b[39;00m\u001b[38;5;21;01mqaoa_simulator_base\u001b[39;00m\u001b[38;5;250m \u001b[39m\u001b[38;5;28;01mimport\u001b[39;00m TermsType\n\u001b[1;32m---> 10\u001b[0m \u001b[38;5;28;01mfrom\u001b[39;00m\u001b[38;5;250m \u001b[39m\u001b[38;5;21;01m.\u001b[39;00m\u001b[38;5;21;01mcore_rotation\u001b[39;00m\u001b[38;5;250m \u001b[39m\u001b[38;5;28;01mimport\u001b[39;00m apply_qaoa_furx\n\u001b[0;32m     12\u001b[0m \u001b[38;5;28;01mfrom\u001b[39;00m\u001b[38;5;250m \u001b[39m\u001b[38;5;21;01m.\u001b[39;00m\u001b[38;5;21;01m.\u001b[39;00m\u001b[38;5;21;01m.\u001b[39;00m\u001b[38;5;21;01mqaoa_simulator_base\u001b[39;00m\u001b[38;5;250m \u001b[39m\u001b[38;5;28;01mimport\u001b[39;00m QAOAFastSimulatorBase, CostsType, ParamType, TermsType\n\u001b[0;32m     13\u001b[0m \u001b[38;5;28;01mfrom\u001b[39;00m\u001b[38;5;250m \u001b[39m\u001b[38;5;21;01m.\u001b[39;00m\u001b[38;5;21;01m.\u001b[39;00m\u001b[38;5;21;01m.\u001b[39;00m\u001b[38;5;21;01mprecomputation\u001b[39;00m\u001b[38;5;250m \u001b[39m\u001b[38;5;28;01mimport\u001b[39;00m precompute_gpu\n",
      "\u001b[1;31mImportError\u001b[0m: cannot import name 'apply_qaoa_furx' from 'Base.Simulators.GPU.core_rotation' (c:\\Users\\N1259534\\OneDrive - Nottingham Trent University\\Desktop\\Projects\\QAOA_simulation_LV\\QAOA_mtrix_simulation\\Base\\Simulators\\GPU\\core_rotation.py)"
     ]
    }
   ],
   "source": [
    "\n",
    "import numpy as np\n",
    "from itertools import combinations\n",
    "import scipy\n",
    "import networkx as nx\n",
    "import matplotlib.pyplot as plt\n",
    "\n",
    "from QAOA_objective import get_qaoa_objective\n"
   ]
  },
  {
   "cell_type": "code",
   "execution_count": null,
   "metadata": {},
   "outputs": [],
   "source": [
    "#Step 1: Generate terms\n",
    "\n",
    "N = 10\n",
    "np.random.seed(1)\n",
    "terms = [(np.random.normal(), spin_pair) for spin_pair in combinations(range(N), r=2)]\n",
    "print(terms)"
   ]
  },
  {
   "cell_type": "code",
   "execution_count": null,
   "metadata": {},
   "outputs": [],
   "source": [
    "G = nx.Graph()\n",
    "for weight, (node1, node2) in terms:\n",
    "    G.add_edge(node1, node2, wight=round(weight, 2))\n",
    "    \n",
    "plt.figure(figsize=(3, 1.5))\n",
    "pos = nx.spring_layout(G)  # Layout for visualization\n",
    "nx.draw(G, pos, with_labels=True, node_color='lightblue', edge_color='gray', node_size=500, font_size=12)\n",
    "\n",
    "\n",
    "plt.show()"
   ]
  },
  {
   "cell_type": "code",
   "execution_count": null,
   "metadata": {},
   "outputs": [],
   "source": [
    "# Step 2: get QAOA objective\n",
    "# Get objective\n",
    "p =4\n",
    "f = get_qaoa_objective(N, terms=terms, parameterization='theta', simulator='gpu')"
   ]
  },
  {
   "cell_type": "code",
   "execution_count": null,
   "metadata": {},
   "outputs": [],
   "source": [
    "# Step 3: Optimize QAOA parameters\n",
    "\n",
    "initial_gamma = -1*np.linspace(0, 1, p)\n",
    "initial_beta = np.linspace(1, 0, p)\n",
    "\n",
    "res = scipy.optimize.minimize(f, np.hstack([initial_gamma, initial_beta]), method='COBYLA', options={'rhobeg': 0.01})"
   ]
  },
  {
   "cell_type": "code",
   "execution_count": null,
   "metadata": {},
   "outputs": [],
   "source": []
  },
  {
   "cell_type": "code",
   "execution_count": null,
   "metadata": {},
   "outputs": [],
   "source": [
    "print(f\"Expected QAOA solution quality: {res.fun:.5f}\")"
   ]
  },
  {
   "cell_type": "code",
   "execution_count": null,
   "metadata": {},
   "outputs": [],
   "source": [
    "import matplotlib.pyplot as plt\n",
    "plt.plot(-res.x[:p], label=r\"$\\gamma$\")\n",
    "plt.plot(res.x[p:], label=r\"$\\beta$\")\n",
    "plt.title('Optimized QAOA parameters')\n",
    "plt.legend()"
   ]
  },
  {
   "cell_type": "code",
   "execution_count": null,
   "metadata": {},
   "outputs": [],
   "source": []
  },
  {
   "cell_type": "code",
   "execution_count": null,
   "metadata": {},
   "outputs": [],
   "source": [
    "def f_from_terms_ground_truth(s):\n",
    "    \"\"\"ground truth for debugging\n",
    "    \"\"\"\n",
    "    out = 0\n",
    "    for coeff, (i, j) in terms:\n",
    "        out += coeff * s[i] * s[j]\n",
    "    return out"
   ]
  },
  {
   "cell_type": "code",
   "execution_count": null,
   "metadata": {},
   "outputs": [],
   "source": [
    "print(f\"True minimum: {brute_force(f_from_terms_ground_truth, N, minimize=True)[0]:.5f}\")\n"
   ]
  }
 ],
 "metadata": {
  "kernelspec": {
   "display_name": "simulation_qaoa_LV",
   "language": "python",
   "name": "python3"
  },
  "language_info": {
   "codemirror_mode": {
    "name": "ipython",
    "version": 3
   },
   "file_extension": ".py",
   "mimetype": "text/x-python",
   "name": "python",
   "nbconvert_exporter": "python",
   "pygments_lexer": "ipython3",
   "version": "3.11.5"
  }
 },
 "nbformat": 4,
 "nbformat_minor": 2
}
